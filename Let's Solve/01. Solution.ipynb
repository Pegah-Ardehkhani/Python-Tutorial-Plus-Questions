{
 "cells": [
  {
   "cell_type": "markdown",
   "metadata": {},
   "source": [
    "# **Question 1**"
   ]
  },
  {
   "cell_type": "markdown",
   "metadata": {},
   "source": [
    "**Write a program that takes a list of numbers as input and returns a new list containing only the even numbers from the original list in ascending order.**"
   ]
  },
  {
   "cell_type": "markdown",
   "metadata": {},
   "source": [
    "### `Solution 1`"
   ]
  },
  {
   "cell_type": "code",
   "execution_count": 30,
   "metadata": {},
   "outputs": [],
   "source": [
    "def even_list(lst):\n",
    "    ev_list = []\n",
    "    for i in lst:\n",
    "        if i % 2 == 0:\n",
    "            ev_list.append(i)\n",
    "    ev_list.sort()        \n",
    "    return ev_list"
   ]
  },
  {
   "cell_type": "code",
   "execution_count": 31,
   "metadata": {},
   "outputs": [
    {
     "data": {
      "text/plain": [
       "[8, 46, 56, 78]"
      ]
     },
     "execution_count": 31,
     "metadata": {},
     "output_type": "execute_result"
    }
   ],
   "source": [
    "even_list([5, 7, 56, 31, 46, 8, 9, 78])"
   ]
  },
  {
   "cell_type": "markdown",
   "metadata": {},
   "source": [
    "In this program, the even_list function takes a list of numbers as input and initializes an empty list called ev_list. It then iterates over each number in the input list and checks if it's even by using the modulo operator (%) to check if the remainder after dividing by 2 is 0. If the number is even, it is appended to the even_numbers list. Finally, the function returns the ev_list list."
   ]
  },
  {
   "cell_type": "markdown",
   "metadata": {},
   "source": [
    "### `Solution 2`"
   ]
  },
  {
   "cell_type": "code",
   "execution_count": 28,
   "metadata": {},
   "outputs": [],
   "source": [
    "def even_list(lst):\n",
    "    ev_list = [i for i in lst if i % 2 == 0]\n",
    "    ev_list.sort()\n",
    "    return ev_list"
   ]
  },
  {
   "cell_type": "code",
   "execution_count": 29,
   "metadata": {},
   "outputs": [
    {
     "data": {
      "text/plain": [
       "[8, 46, 56, 78]"
      ]
     },
     "execution_count": 29,
     "metadata": {},
     "output_type": "execute_result"
    }
   ],
   "source": [
    "even_list([5, 7, 56, 31, 46, 8, 9, 78])"
   ]
  },
  {
   "cell_type": "markdown",
   "metadata": {},
   "source": [
    "In this version, we use a list comprehension to create a new list called ev_list. The list comprehension iterates over each number in the numbers list and checks if the number is even using the modulo operator. If the condition is true, the number is included in the ev_list list."
   ]
  }
 ],
 "metadata": {
  "kernelspec": {
   "display_name": "Python 3",
   "language": "python",
   "name": "python3"
  },
  "language_info": {
   "codemirror_mode": {
    "name": "ipython",
    "version": 3
   },
   "file_extension": ".py",
   "mimetype": "text/x-python",
   "name": "python",
   "nbconvert_exporter": "python",
   "pygments_lexer": "ipython3",
   "version": "3.8.3"
  }
 },
 "nbformat": 4,
 "nbformat_minor": 4
}
