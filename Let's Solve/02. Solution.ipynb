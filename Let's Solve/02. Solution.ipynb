{
 "cells": [
  {
   "cell_type": "markdown",
   "metadata": {},
   "source": [
    "# **Question 2**"
   ]
  },
  {
   "cell_type": "markdown",
   "metadata": {},
   "source": [
    "**Write a program that generates a Fibonacci sequence up to a given number 'n'. The Fibonacci sequence is a series of numbers in which each number is the sum of the two preceding ones.**"
   ]
  },
  {
   "cell_type": "markdown",
   "metadata": {},
   "source": [
    "### `Solution 1`"
   ]
  },
  {
   "cell_type": "code",
   "execution_count": 8,
   "metadata": {},
   "outputs": [],
   "source": [
    "def generate_fibonacci(n):\n",
    "    fibonacci_sequence = []\n",
    "    if n <= 0:\n",
    "        return fibonacci_sequence\n",
    "    \n",
    "    # First two numbers of the Fibonacci sequence\n",
    "    fibonacci_sequence.append(0)\n",
    "    if n == 1:\n",
    "        return fibonacci_sequence\n",
    "    \n",
    "    fibonacci_sequence.append(1)\n",
    "    if n == 2:\n",
    "        return fibonacci_sequence\n",
    "    \n",
    "    # Generate subsequent numbers of the Fibonacci sequence\n",
    "    while len(fibonacci_sequence) < n:\n",
    "        next_number = fibonacci_sequence[-1] + fibonacci_sequence[-2]\n",
    "        fibonacci_sequence.append(next_number)\n",
    "    \n",
    "    return fibonacci_sequence"
   ]
  },
  {
   "cell_type": "markdown",
   "metadata": {},
   "source": [
    "In this program, the generate_fibonacci function takes a number n as input and returns a list containing the Fibonacci sequence up to that number.\n",
    "\n",
    "The function first initializes an empty list called fibonacci_sequence. If n is less than or equal to 0, it immediately returns the empty sequence.\n",
    "\n",
    "For n greater than 0, it appends the first two numbers of the Fibonacci sequence (0 and 1) to the fibonacci_sequence list.\n",
    "\n",
    "Then, using a while loop, it generates subsequent numbers of the Fibonacci sequence by adding the last two numbers in the list and appending the sum to the list. The loop continues until the length of the fibonacci_sequence list reaches n.\n",
    "\n",
    "Finally, the function returns the fibonacci_sequence list."
   ]
  },
  {
   "cell_type": "code",
   "execution_count": 12,
   "metadata": {},
   "outputs": [
    {
     "data": {
      "text/plain": [
       "[0, 1, 1]"
      ]
     },
     "execution_count": 12,
     "metadata": {},
     "output_type": "execute_result"
    }
   ],
   "source": [
    "generate_fibonacci(3)"
   ]
  },
  {
   "cell_type": "code",
   "execution_count": 13,
   "metadata": {},
   "outputs": [
    {
     "data": {
      "text/plain": [
       "[0, 1, 1, 2, 3, 5, 8, 13, 21, 34, 55, 89, 144, 233, 377]"
      ]
     },
     "execution_count": 13,
     "metadata": {},
     "output_type": "execute_result"
    }
   ],
   "source": [
    "generate_fibonacci(15)"
   ]
  },
  {
   "cell_type": "markdown",
   "metadata": {},
   "source": [
    "### `Solution 2`"
   ]
  },
  {
   "cell_type": "code",
   "execution_count": 19,
   "metadata": {},
   "outputs": [],
   "source": [
    "def generate_fibonacci(n):\n",
    "    if n <= 0:\n",
    "        return []\n",
    "    elif n == 1:\n",
    "        return [0]\n",
    "    elif n == 2:\n",
    "        return [0, 1]\n",
    "    else:\n",
    "        sequence = generate_fibonacci(n - 1)\n",
    "        next_number = sequence[-1] + sequence[-2]\n",
    "        sequence.append(next_number)\n",
    "        return sequence"
   ]
  },
  {
   "cell_type": "code",
   "execution_count": 20,
   "metadata": {},
   "outputs": [
    {
     "data": {
      "text/plain": [
       "[0, 1, 1]"
      ]
     },
     "execution_count": 20,
     "metadata": {},
     "output_type": "execute_result"
    }
   ],
   "source": [
    "generate_fibonacci(3)"
   ]
  },
  {
   "cell_type": "code",
   "execution_count": 13,
   "metadata": {},
   "outputs": [
    {
     "data": {
      "text/plain": [
       "[0, 1, 1, 2, 3, 5, 8, 13, 21, 34, 55, 89, 144, 233, 377]"
      ]
     },
     "execution_count": 13,
     "metadata": {},
     "output_type": "execute_result"
    }
   ],
   "source": [
    "generate_fibonacci(15)"
   ]
  },
  {
   "cell_type": "markdown",
   "metadata": {},
   "source": [
    "In this version, the generate_fibonacci function utilizes recursion to generate the Fibonacci sequence. It has similar base cases as the previous implementation to handle n values less than or equal to 0, 1, and 2.\n",
    "\n",
    "For n greater than 2, the function recursively calls itself with n-1 as the argument to generate the sequence up to the preceding number. Then, it calculates the next number by summing the last two elements of the generated sequence and appends it to the sequence. Finally, the function returns the updated sequence."
   ]
  }
 ],
 "metadata": {
  "kernelspec": {
   "display_name": "Python 3",
   "language": "python",
   "name": "python3"
  },
  "language_info": {
   "codemirror_mode": {
    "name": "ipython",
    "version": 3
   },
   "file_extension": ".py",
   "mimetype": "text/x-python",
   "name": "python",
   "nbconvert_exporter": "python",
   "pygments_lexer": "ipython3",
   "version": "3.8.3"
  }
 },
 "nbformat": 4,
 "nbformat_minor": 4
}
