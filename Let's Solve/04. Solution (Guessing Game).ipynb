{
 "cells": [
  {
   "cell_type": "markdown",
   "metadata": {},
   "source": [
    "# Guessing Game"
   ]
  },
  {
   "cell_type": "markdown",
   "metadata": {},
   "source": [
    "**Use while loops to create a guessing game.**\n",
    "\n",
    "**Write a program that picks a random integer from 1 to 100, and has players guess the number. The rules are:**\n",
    "\n",
    "**1. If a player's guess is less than 1 or greater than 100, say \"OUT OF BOUNDS\"**\n",
    "\n",
    "**2. On a player's first turn, if their guess is**\n",
    " * within 10 of the number, return \"WARM!\"\n",
    " * further than 10 away from the number, return \"COLD!\"\n",
    " \n",
    "**3. On all subsequent turns, if a guess is**\n",
    " * closer to the number than the previous guess return \"WARMER!\"\n",
    " * farther from the number than the previous guess, return \"COLDER!\"\n",
    " \n",
    "**4. When the player's guess equals the number, tell them they've guessed correctly *and* how many guesses it took!**"
   ]
  },
  {
   "cell_type": "markdown",
   "metadata": {},
   "source": [
    "### `Solution 1`"
   ]
  },
  {
   "cell_type": "code",
   "execution_count": 12,
   "metadata": {},
   "outputs": [
    {
     "name": "stdout",
     "output_type": "stream",
     "text": [
      "Enter Your Next Guess: 23\n",
      "COLD!\n",
      "Enter Your Next Guess: 46\n",
      "COLDER!\n",
      "Enter Your Next Guess: 11\n",
      "WARMER!\n",
      "Enter Your Next Guess: 10\n",
      "WARMER!\n",
      "Enter Your Next Guess: 5\n",
      "WARMER!\n",
      "Enter Your Next Guess: 4\n",
      "COLDER!\n",
      "Enter Your Next Guess: 6\n",
      "WARMER!\n",
      "Enter Your Next Guess: 8\n",
      "COLDER!\n",
      "Enter Your Next Guess: 7\n",
      "CORRECT!\n",
      "You guessed it on your 9th try\n"
     ]
    }
   ],
   "source": [
    "from random import randint\n",
    "target = randint(1,101)\n",
    "target\n",
    "guess_list = []\n",
    "\n",
    "while True:\n",
    "    \n",
    "    guess = int(input('Enter Your Next Guess: '))\n",
    " \n",
    "    if guess > 100 or guess < 1:\n",
    "        print('OUT OF BOUNDS!')\n",
    "        continue\n",
    "        \n",
    "    guess_list.append(guess)\n",
    "\n",
    "    if guess_list[-1] == target:\n",
    "        print('CORRECT!')\n",
    "        print(f'You guessed it on your {len(guess_list)}th try')\n",
    "        break\n",
    "        \n",
    "    if len(guess_list) == 1:\n",
    "        if abs(guess_list[-1] - target) < 10:\n",
    "            print('WARM!')\n",
    "        else:\n",
    "            print('COLD!')\n",
    "\n",
    "    if len(guess_list) != 1:\n",
    "        if abs(guess_list[-1] - target) < abs(guess_list[-2] - target):\n",
    "            print('WARMER!')\n",
    "        else:\n",
    "            print('COLDER!')"
   ]
  },
  {
   "cell_type": "markdown",
   "metadata": {},
   "source": [
    "### `Explanation`"
   ]
  },
  {
   "cell_type": "markdown",
   "metadata": {},
   "source": [
    "1. Importing randint from random:\n",
    "```python\n",
    "from random import randint\n",
    "```\n",
    "This line imports the `randint` function from the `random` module. The `randint` function generates a random integer between two given values, inclusive.\n",
    "\n",
    "\n",
    "2. Generating the target number:\n",
    "```python\n",
    "target = randint(1, 101)\n",
    "```\n",
    "This line uses the `randint` function to generate a random integer between 1 and 100, inclusive. The chosen number is stored in the variable `target`, which the players will attempt to guess.\n",
    "\n",
    "\n",
    "3. Initializing variables and the guess list:\n",
    "```python\n",
    "guess_list = []\n",
    "```\n",
    "Here, we initialize an empty list `guess_list` to keep track of the player's guesses.\n",
    "\n",
    "\n",
    "4. Starting the game loop with `while True`:\n",
    "```python\n",
    "while True:\n",
    "```\n",
    "This creates an infinite loop, allowing the game to run repeatedly until a correct guess is made. We use `break` to exit the loop when the player guesses the correct number.\n",
    "\n",
    "\n",
    "5. Taking player's guess:\n",
    "```python\n",
    "guess = int(input('Enter Your Next Guess: '))\n",
    "```\n",
    "The program asks the player to enter their guess, converts the input to an integer using `int()`, and stores the guess in the variable `guess`.\n",
    "\n",
    "\n",
    "6. Checking for out of bounds guess:\n",
    "```python\n",
    "if guess > 100 or guess < 1:\n",
    ".....print('OUT OF BOUNDS!')\n",
    ".....continue\n",
    "```\n",
    "If the player's guess is greater than 100 or less than 1, the program prints \"OUT OF BOUNDS!\" and continues to the next iteration of the loop using `continue`.\n",
    "\n",
    "\n",
    "7. Adding the guess to the guess list:\n",
    "```python\n",
    "guess_list.append(guess)\n",
    "```\n",
    "The player's guess is added to the `guess_list` to keep track of all the guesses made.\n",
    "\n",
    "\n",
    "8. Checking if the guess is correct:\n",
    "```python\n",
    "if guess_list[-1] == target:\n",
    ".....print('CORRECT!')\n",
    ".....print(f'You guessed it on your {len(guess_list)}th try')\n",
    ".....break\n",
    "```\n",
    "The program checks if the player's latest guess (`guess_list[-1]`) is equal to the `target` number. If it's correct, the program prints \"CORRECT!\" and the number of tries it took to guess correctly using `len(guess_list)`. The loop is then exited with `break`.\n",
    "\n",
    "\n",
    "9. Evaluating the first guess:\n",
    "```python\n",
    "if len(guess_list) == 1:\n",
    ".....if abs(guess_list[-1] - target) < 10:\n",
    "..........print('WARM!')\n",
    ".....else:\n",
    "..........print('COLD!')\n",
    "```\n",
    "If it's not the first guess (`len(guess_list) != 1`), the program evaluates whether the latest guess is closer or farther from the `target` compared to the previous guess. It prints either \"WARMER!\" or \"COLDER!\" accordingly.\n",
    "\n",
    "That's it! The program allows players to make guesses and provides appropriate feedback based on the rules of the guessing game until they guess the correct number."
   ]
  }
 ],
 "metadata": {
  "kernelspec": {
   "display_name": "Python 3",
   "language": "python",
   "name": "python3"
  },
  "language_info": {
   "codemirror_mode": {
    "name": "ipython",
    "version": 3
   },
   "file_extension": ".py",
   "mimetype": "text/x-python",
   "name": "python",
   "nbconvert_exporter": "python",
   "pygments_lexer": "ipython3",
   "version": "3.8.3"
  }
 },
 "nbformat": 4,
 "nbformat_minor": 4
}
